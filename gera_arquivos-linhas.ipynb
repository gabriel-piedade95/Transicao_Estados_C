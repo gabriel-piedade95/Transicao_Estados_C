{
 "cells": [
  {
   "cell_type": "markdown",
   "metadata": {},
   "source": [
    "arquivos genes WT"
   ]
  },
  {
   "cell_type": "code",
   "execution_count": 4,
   "metadata": {},
   "outputs": [],
   "source": [
    "path_saida = \"/home/gpsp95/Área de Trabalho/projetos programação/TRANSICAO_ESTADOS_C/\""
   ]
  },
  {
   "cell_type": "code",
   "execution_count": 5,
   "metadata": {},
   "outputs": [],
   "source": [
    "\n",
    "\n",
    "path1 = '/home/gpsp95/Documents/Analises_yeast/Transição_Estados_Analises/'\n",
    "\n",
    "genes_wt_paths = []\n",
    "for i in range(11):\n",
    "    comp = f'genes_wt/gene_{i}_wt.txt'\n",
    "    aux = path1+comp\n",
    "    contador = 0\n",
    "    with open(aux, \"r\", encoding='utf-8') as f:\n",
    "        for linha in f:\n",
    "            contador += 1\n",
    "    genes_wt_paths.append((aux, str(contador), '11'))\n",
    "\n",
    "with open(path_saida + 'gene_wt.txt', 'w', encoding='utf-8') as f:\n",
    "\n",
    "    for gene in genes_wt_paths:\n",
    "\n",
    "        for item in gene:\n",
    "\n",
    "            for c in item:\n",
    "                f.write(c)\n",
    "\n",
    "            f.write(' ')\n",
    "\n",
    "        f.write('\\n')\n",
    "\n",
    "        "
   ]
  },
  {
   "cell_type": "markdown",
   "metadata": {},
   "source": [
    "linhas genes yeast"
   ]
  },
  {
   "cell_type": "code",
   "execution_count": null,
   "metadata": {},
   "outputs": [],
   "source": [
    "path1 = '/home/gpsp95/Documents/Analises_yeast/Transição_Estados_Analises/'\n",
    "\n",
    "genes_yeast_paths = []\n",
    "for i in range(11):\n",
    "    comp = f'genes_yeast/gene{i}.txt'\n",
    "    aux = path1+comp\n",
    "    contador = 0\n",
    "    with open(aux, \"r\", encoding='utf-8') as f:\n",
    "        for linha in f:\n",
    "            contador += 1\n",
    "    genes_yeast_paths.append((aux, str(contador), '11'))\n",
    "\n",
    "with open(path_saida + 'gene_yeast.txt', 'w', encoding='utf-8') as f:\n",
    "\n",
    "    for gene in genes_yeast_paths:\n",
    "\n",
    "        for item in gene:\n",
    "\n",
    "            for c in item:\n",
    "                f.write(c)\n",
    "\n",
    "            f.write(' ')\n",
    "\n",
    "        f.write('\\n')"
   ]
  }
 ],
 "metadata": {
  "interpreter": {
   "hash": "3b032037c39c58fad1e7261ca405fb815d835b058fb682d999d9c796396925d5"
  },
  "kernelspec": {
   "display_name": "Python 3.8.8 ('base')",
   "language": "python",
   "name": "python3"
  },
  "language_info": {
   "codemirror_mode": {
    "name": "ipython",
    "version": 3
   },
   "file_extension": ".py",
   "mimetype": "text/x-python",
   "name": "python",
   "nbconvert_exporter": "python",
   "pygments_lexer": "ipython3",
   "version": "3.8.8"
  },
  "orig_nbformat": 4
 },
 "nbformat": 4,
 "nbformat_minor": 2
}
